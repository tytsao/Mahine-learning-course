{
 "cells": [
  {
   "cell_type": "code",
   "execution_count": 1,
   "metadata": {},
   "outputs": [],
   "source": [
    "import numpy as np"
   ]
  },
  {
   "cell_type": "code",
   "execution_count": 2,
   "metadata": {},
   "outputs": [
    {
     "name": "stdout",
     "output_type": "stream",
     "text": [
      "3.1540241762703327\n"
     ]
    }
   ],
   "source": [
    "steps = 1000\n",
    "repeat = 500\n",
    "sample = 100\n",
    "lr = 0.01\n",
    "\n",
    "def target(x):\n",
    "    return np.exp(x)\n",
    "\n",
    "w_total = np.zeros(1)\n",
    "\n",
    "x = np.linspace(0, 2, sample)\n",
    "\n",
    "for j in range(repeat):\n",
    "    w = np.zeros(1)\n",
    "    for i in range(steps):\n",
    "        k = np.random.randint(sample)\n",
    "        w = w + lr*(target(x[k]) - w*x[k])*x[k]\n",
    "    w_total += w\n",
    "    \n",
    "print ((w_total / repeat)[0])"
   ]
  },
  {
   "cell_type": "code",
   "execution_count": 3,
   "metadata": {},
   "outputs": [
    {
     "name": "stdout",
     "output_type": "stream",
     "text": [
      "wb = 1.298632012366331\n",
      "wc = 3.1458960370989937\n",
      "wd = 0.9236320123663312\n",
      "we = 2.7708960370989937\n"
     ]
    }
   ],
   "source": [
    "print ('wb =', (3+np.exp(1)**2)/8)\n",
    "print ('wc =', (3+3*np.exp(1)**2)/8)\n",
    "print ('wd =', (np.exp(1)**2)/8)\n",
    "print ('we =', (3*np.exp(1)**2)/8)"
   ]
  },
  {
   "cell_type": "code",
   "execution_count": null,
   "metadata": {},
   "outputs": [],
   "source": []
  }
 ],
 "metadata": {
  "kernelspec": {
   "display_name": "Python 3",
   "language": "python",
   "name": "python3"
  },
  "language_info": {
   "codemirror_mode": {
    "name": "ipython",
    "version": 3
   },
   "file_extension": ".py",
   "mimetype": "text/x-python",
   "name": "python",
   "nbconvert_exporter": "python",
   "pygments_lexer": "ipython3",
   "version": "3.7.1"
  }
 },
 "nbformat": 4,
 "nbformat_minor": 4
}
