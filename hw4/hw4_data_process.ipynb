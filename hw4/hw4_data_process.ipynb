{
 "cells": [
  {
   "cell_type": "code",
   "execution_count": 1,
   "metadata": {},
   "outputs": [],
   "source": [
    "import numpy as np\n",
    "from numpy import savetxt\n",
    "from sklearn.preprocessing import PolynomialFeatures\n",
    "import csv"
   ]
  },
  {
   "cell_type": "code",
   "execution_count": 2,
   "metadata": {},
   "outputs": [],
   "source": [
    "poly = PolynomialFeatures(2, interaction_only=False, include_bias=True, order='C')\n",
    "\n",
    "data_train = np.genfromtxt(\"hw4_train.dat\")\n",
    "X_train = data_train[:, :-1]\n",
    "y_train = data_train[:, -1].reshape(-1, 1)\n",
    "X_train = poly.fit_transform(X_train)\n",
    "data_test = np.genfromtxt(\"hw4_test.dat\")\n",
    "X_test = data_test[:, :-1]\n",
    "y_test = data_test[:, -1].reshape(-1, 1)\n",
    "X_test = poly.fit_transform(X_test)"
   ]
  },
  {
   "cell_type": "code",
   "execution_count": 3,
   "metadata": {},
   "outputs": [],
   "source": [
    "with open('train_set.txt','a') as f:\n",
    "    writer = csv.writer(f)\n",
    "    for j in range(len(X_train)):\n",
    "        f.write(str(y_train[j].item()) + \" \")\n",
    "        for i in range(len(X_train[0])):\n",
    "            f.write(str(i+1) + \":\" + str(X_train[j][i].item()) + \" \")\n",
    "        f.write(\"\\n\")"
   ]
  },
  {
   "cell_type": "code",
   "execution_count": 4,
   "metadata": {},
   "outputs": [],
   "source": [
    "with open('test_set.txt','a') as f:\n",
    "    writer = csv.writer(f)\n",
    "    for j in range(len(X_test)):\n",
    "        f.write(str(y_test[j].item()) + \" \")\n",
    "        for i in range(len(X_test[0])):\n",
    "            f.write(str(i+1) + \":\" + str(X_test[j][i].item()) + \" \")\n",
    "        f.write(\"\\n\")"
   ]
  },
  {
   "cell_type": "code",
   "execution_count": 5,
   "metadata": {},
   "outputs": [],
   "source": [
    "with open('120_train_set.txt','a') as f:\n",
    "    writer = csv.writer(f)\n",
    "    for j in range(120):\n",
    "        f.write(str(y_train[j].item()) + \" \")\n",
    "        for i in range(len(X_train[0])):\n",
    "            f.write(str(i+1) + \":\" + str(X_train[j][i].item()) + \" \")\n",
    "        f.write(\"\\n\")\n",
    "with open('80_val_set.txt','a') as f:\n",
    "    writer = csv.writer(f)\n",
    "    for j in range(80):\n",
    "        f.write(str(y_train[j+120].item()) + \" \")\n",
    "        for i in range(len(X_train[0])):\n",
    "            f.write(str(i+1) + \":\" + str(X_train[j+120][i].item()) + \" \")\n",
    "        f.write(\"\\n\")"
   ]
  },
  {
   "cell_type": "code",
   "execution_count": 11,
   "metadata": {},
   "outputs": [],
   "source": [
    "with open('fold1_train_set.txt','a') as f:\n",
    "    writer = csv.writer(f)\n",
    "    for j in range(40):\n",
    "        f.write(str(y_train[j].item()) + \" \")\n",
    "        for i in range(len(X_train[0])):\n",
    "            f.write(str(i+1) + \":\" + str(X_train[j][i].item()) + \" \")\n",
    "        f.write(\"\\n\")\n",
    "with open('fold2_train_set.txt','a') as f:\n",
    "    writer = csv.writer(f)\n",
    "    for j in range(40):\n",
    "        f.write(str(y_train[j+40].item()) + \" \")\n",
    "        for i in range(len(X_train[0])):\n",
    "            f.write(str(i+1) + \":\" + str(X_train[j+40][i].item()) + \" \")\n",
    "        f.write(\"\\n\")\n",
    "with open('fold3_train_set.txt','a') as f:\n",
    "    writer = csv.writer(f)\n",
    "    for j in range(40):\n",
    "        f.write(str(y_train[j+80].item()) + \" \")\n",
    "        for i in range(len(X_train[0])):\n",
    "            f.write(str(i+1) + \":\" + str(X_train[j+80][i].item()) + \" \")\n",
    "        f.write(\"\\n\")\n",
    "with open('fold4_train_set.txt','a') as f:\n",
    "    writer = csv.writer(f)\n",
    "    for j in range(40):\n",
    "        f.write(str(y_train[j+120].item()) + \" \")\n",
    "        for i in range(len(X_train[0])):\n",
    "            f.write(str(i+1) + \":\" + str(X_train[j+120][i].item()) + \" \")\n",
    "        f.write(\"\\n\")\n",
    "with open('fold5_train_set.txt','a') as f:\n",
    "    writer = csv.writer(f)\n",
    "    for j in range(40):\n",
    "        f.write(str(y_train[j+160].item()) + \" \")\n",
    "        for i in range(len(X_train[0])):\n",
    "            f.write(str(i+1) + \":\" + str(X_train[j+160][i].item()) + \" \")\n",
    "        f.write(\"\\n\")"
   ]
  },
  {
   "cell_type": "code",
   "execution_count": 10,
   "metadata": {},
   "outputs": [],
   "source": [
    "with open('lv_fold1_train_set.txt','a') as f:\n",
    "    writer = csv.writer(f)\n",
    "    for j in range(160):\n",
    "        f.write(str(y_train[j+40].item()) + \" \")\n",
    "        for i in range(len(X_train[0])):\n",
    "            f.write(str(i+1) + \":\" + str(X_train[j+40][i].item()) + \" \")\n",
    "        f.write(\"\\n\")\n",
    "\n",
    "with open('lv_fold2_train_set.txt','a') as f:\n",
    "    writer = csv.writer(f)\n",
    "    for j in range(40):\n",
    "        f.write(str(y_train[j].item()) + \" \")\n",
    "        for i in range(len(X_train[0])):\n",
    "            f.write(str(i+1) + \":\" + str(X_train[j][i].item()) + \" \")\n",
    "        f.write(\"\\n\")\n",
    "    for j in range(120):\n",
    "        f.write(str(y_train[j+80].item()) + \" \")\n",
    "        for i in range(len(X_train[0])):\n",
    "            f.write(str(i+1) + \":\" + str(X_train[j+80][i].item()) + \" \")\n",
    "        f.write(\"\\n\")\n",
    "        \n",
    "with open('lv_fold3_train_set.txt','a') as f:\n",
    "    writer = csv.writer(f)\n",
    "    for j in range(80):\n",
    "        f.write(str(y_train[j].item()) + \" \")\n",
    "        for i in range(len(X_train[0])):\n",
    "            f.write(str(i+1) + \":\" + str(X_train[j][i].item()) + \" \")\n",
    "        f.write(\"\\n\")\n",
    "    for j in range(80):\n",
    "        f.write(str(y_train[j+120].item()) + \" \")\n",
    "        for i in range(len(X_train[0])):\n",
    "            f.write(str(i+1) + \":\" + str(X_train[j+120][i].item()) + \" \")\n",
    "        f.write(\"\\n\")\n",
    "        \n",
    "with open('lv_fold4_train_set.txt','a') as f:\n",
    "    writer = csv.writer(f)\n",
    "    for j in range(120):\n",
    "        f.write(str(y_train[j].item()) + \" \")\n",
    "        for i in range(len(X_train[0])):\n",
    "            f.write(str(i+1) + \":\" + str(X_train[j][i].item()) + \" \")\n",
    "        f.write(\"\\n\")\n",
    "    for j in range(40):\n",
    "        f.write(str(y_train[j+160].item()) + \" \")\n",
    "        for i in range(len(X_train[0])):\n",
    "            f.write(str(i+1) + \":\" + str(X_train[j+160][i].item()) + \" \")\n",
    "        f.write(\"\\n\")\n",
    "\n",
    "with open('lv_fold5_train_set.txt','a') as f:\n",
    "    writer = csv.writer(f)\n",
    "    for j in range(160):\n",
    "        f.write(str(y_train[j].item()) + \" \")\n",
    "        for i in range(len(X_train[0])):\n",
    "            f.write(str(i+1) + \":\" + str(X_train[j][i].item()) + \" \")\n",
    "        f.write(\"\\n\")"
   ]
  },
  {
   "cell_type": "code",
   "execution_count": null,
   "metadata": {},
   "outputs": [],
   "source": []
  }
 ],
 "metadata": {
  "kernelspec": {
   "display_name": "Python 3",
   "language": "python",
   "name": "python3"
  },
  "language_info": {
   "codemirror_mode": {
    "name": "ipython",
    "version": 3
   },
   "file_extension": ".py",
   "mimetype": "text/x-python",
   "name": "python",
   "nbconvert_exporter": "python",
   "pygments_lexer": "ipython3",
   "version": "3.7.1"
  }
 },
 "nbformat": 4,
 "nbformat_minor": 4
}
