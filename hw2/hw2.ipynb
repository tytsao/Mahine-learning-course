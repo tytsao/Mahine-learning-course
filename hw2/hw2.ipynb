{
 "cells": [
  {
   "cell_type": "code",
   "execution_count": 1,
   "metadata": {},
   "outputs": [],
   "source": [
    "import numpy as np"
   ]
  },
  {
   "cell_type": "code",
   "execution_count": 2,
   "metadata": {},
   "outputs": [],
   "source": [
    "def generate_data():\n",
    "    x = np.random.uniform(-1, 1, size)\n",
    "    y = np.sign(x)\n",
    "    y[y == 0] = -1\n",
    "    prop = np.random.uniform(0, 1, size)\n",
    "    y[prop <= tau] *= -1\n",
    "    return x, y\n",
    "\n",
    "def decision_stump(X, y):\n",
    "    theta = [-1]\n",
    "    X_sort = np.sort(X)\n",
    "    for i in range(size - 1):\n",
    "        theta.append((X_sort[i] + X_sort[i+1]) / 2)\n",
    "    num = size\n",
    "    \n",
    "    X_tmp = np.tile(X, (num, 1))\n",
    "    t_tmp = np.tile(np.reshape(theta, (num, 1)), (1, num))\n",
    "    \n",
    "    ypred = np.sign(X_tmp - t_tmp)\n",
    "    ypred[ypred == 0] = -1\n",
    "    \n",
    "    err = np.sum(ypred != y, axis=1)\n",
    "    \n",
    "    if np.min(err) <= num - np.max(err):\n",
    "        return 1, theta[np.argmin(err)], np.min(err) / num\n",
    "    else:\n",
    "        return -1, theta[np.argmax(err)], (num - np.max(err)) / num"
   ]
  },
  {
   "cell_type": "code",
   "execution_count": 12,
   "metadata": {},
   "outputs": [
    {
     "name": "stdout",
     "output_type": "stream",
     "text": [
      "Ein = 0.0\n",
      "Eout = 0.2916799128092428\n",
      "P16: Eout - Ein = 0.2916799128092428\n"
     ]
    }
   ],
   "source": [
    "# problem 16\n",
    "tau = 0\n",
    "size = 2\n",
    "iters = 10000\n",
    "\n",
    "Ein_total = 0\n",
    "Eout_total = 0\n",
    "\n",
    "for i in range(iters):\n",
    "    X, y = generate_data()\n",
    "    s, theta, Ein = decision_stump(X, y)\n",
    "    Eout = 0.5 * np.abs(theta) # for tau = 0\n",
    "    #Eout = 0.4 * s * np.abs(theta) - 0.4 * s + 0.5 # for tau = 0.1\n",
    "    \n",
    "    Ein_total += Ein\n",
    "    Eout_total += Eout\n",
    "\n",
    "Ein = Ein_total / iters\n",
    "Eout = Eout_total / iters\n",
    "\n",
    "print ('Ein =', Ein)\n",
    "print ('Eout =', Eout)\n",
    "print ('P16: Eout - Ein =', Eout - Ein)"
   ]
  },
  {
   "cell_type": "code",
   "execution_count": 4,
   "metadata": {},
   "outputs": [
    {
     "name": "stdout",
     "output_type": "stream",
     "text": [
      "Ein = 0.0\n",
      "Eout = 0.02402394706637114\n",
      "P17: Eout - Ein = 0.02402394706637114\n"
     ]
    }
   ],
   "source": [
    "# problem 17\n",
    "tau = 0\n",
    "size = 20\n",
    "iters = 10000\n",
    "\n",
    "Ein_total = 0\n",
    "Eout_total = 0\n",
    "\n",
    "for i in range(iters):\n",
    "    X, y = generate_data()\n",
    "    s, theta, Ein = decision_stump(X, y)\n",
    "    Eout = 0.5 * np.abs(theta) # for tau = 0\n",
    "    #Eout = 0.4 * s * np.abs(theta) - 0.4 * s + 0.5 # for tau = 0.1\n",
    "    \n",
    "    Ein_total += Ein\n",
    "    Eout_total += Eout\n",
    "\n",
    "Ein = Ein_total / iters\n",
    "Eout = Eout_total / iters\n",
    "\n",
    "print ('Ein =', Ein)\n",
    "print ('Eout =', Eout)\n",
    "print ('P17: Eout - Ein =', Eout - Ein)"
   ]
  },
  {
   "cell_type": "code",
   "execution_count": 10,
   "metadata": {},
   "outputs": [
    {
     "name": "stdout",
     "output_type": "stream",
     "text": [
      "Ein = 0.0\n",
      "Eout = 0.36425560489797415\n",
      "P18: Eout - Ein = 0.36425560489797415\n"
     ]
    }
   ],
   "source": [
    "# problem 18\n",
    "tau = 0.1\n",
    "size = 2\n",
    "iters = 10000\n",
    "\n",
    "Ein_total = 0\n",
    "Eout_total = 0\n",
    "\n",
    "for i in range(iters):\n",
    "    X, y = generate_data()\n",
    "    s, theta, Ein = decision_stump(X, y)\n",
    "    #Eout = 0.5 * np.abs(theta) # for tau = 0\n",
    "    Eout = 0.4 * s * np.abs(theta) - 0.4 * s + 0.5 # for tau = 0.1\n",
    "    \n",
    "    Ein_total += Ein\n",
    "    Eout_total += Eout\n",
    "\n",
    "Ein = Ein_total / iters\n",
    "Eout = Eout_total / iters\n",
    "\n",
    "print ('Ein =', Ein)\n",
    "print ('Eout =', Eout)\n",
    "print ('P18: Eout - Ein =', Eout - Ein)"
   ]
  },
  {
   "cell_type": "code",
   "execution_count": 6,
   "metadata": {},
   "outputs": [
    {
     "name": "stdout",
     "output_type": "stream",
     "text": [
      "Ein = 0.0883499999999984\n",
      "Eout = 0.13825650002457984\n",
      "P19: Eout - Ein = 0.04990650002458144\n"
     ]
    }
   ],
   "source": [
    "# problem 19\n",
    "tau = 0.1\n",
    "size = 20\n",
    "iters = 10000\n",
    "\n",
    "Ein_total = 0\n",
    "Eout_total = 0\n",
    "\n",
    "for i in range(iters):\n",
    "    X, y = generate_data()\n",
    "    s, theta, Ein = decision_stump(X, y)\n",
    "    #Eout = 0.5 * np.abs(theta) # for tau = 0\n",
    "    Eout = 0.4 * s * np.abs(theta) - 0.4 * s + 0.5 # for tau = 0.1\n",
    "    \n",
    "    Ein_total += Ein\n",
    "    Eout_total += Eout\n",
    "\n",
    "Ein = Ein_total / iters\n",
    "Eout = Eout_total / iters\n",
    "\n",
    "print ('Ein =', Ein)\n",
    "print ('Eout =', Eout)\n",
    "print ('P19: Eout - Ein =', Eout - Ein)"
   ]
  },
  {
   "cell_type": "code",
   "execution_count": 7,
   "metadata": {},
   "outputs": [
    {
     "name": "stdout",
     "output_type": "stream",
     "text": [
      "Ein = 0.09876600000000996\n",
      "Eout = 0.10406276421748642\n",
      "P20: Eout - Ein = 0.005296764217476463\n"
     ]
    }
   ],
   "source": [
    "# problem 20\n",
    "tau = 0.1\n",
    "size = 200\n",
    "iters = 10000\n",
    "\n",
    "Ein_total = 0\n",
    "Eout_total = 0\n",
    "\n",
    "for i in range(iters):\n",
    "    X, y = generate_data()\n",
    "    s, theta, Ein = decision_stump(X, y)\n",
    "    #Eout = 0.5 * np.abs(theta) # for tau = 0\n",
    "    Eout = 0.4 * s * np.abs(theta) - 0.4 * s + 0.5 # for tau = 0.1\n",
    "    \n",
    "    Ein_total += Ein\n",
    "    Eout_total += Eout\n",
    "\n",
    "Ein = Ein_total / iters\n",
    "Eout = Eout_total / iters\n",
    "\n",
    "print ('Ein =', Ein)\n",
    "print ('Eout =', Eout)\n",
    "print ('P20: Eout - Ein =', Eout - Ein)"
   ]
  },
  {
   "cell_type": "code",
   "execution_count": null,
   "metadata": {},
   "outputs": [],
   "source": []
  }
 ],
 "metadata": {
  "kernelspec": {
   "display_name": "Python 3",
   "language": "python",
   "name": "python3"
  },
  "language_info": {
   "codemirror_mode": {
    "name": "ipython",
    "version": 3
   },
   "file_extension": ".py",
   "mimetype": "text/x-python",
   "name": "python",
   "nbconvert_exporter": "python",
   "pygments_lexer": "ipython3",
   "version": "3.7.1"
  }
 },
 "nbformat": 4,
 "nbformat_minor": 4
}
