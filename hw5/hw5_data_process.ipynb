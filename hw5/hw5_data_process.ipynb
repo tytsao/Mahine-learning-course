{
 "cells": [
  {
   "cell_type": "code",
   "execution_count": 1,
   "metadata": {},
   "outputs": [],
   "source": [
    "import pandas as pd\n",
    "import numpy as np\n",
    "from numpy import savetxt\n",
    "import csv"
   ]
  },
  {
   "cell_type": "code",
   "execution_count": 2,
   "metadata": {
    "scrolled": true
   },
   "outputs": [],
   "source": [
    "train_df = pd.read_csv('satimage.scale', header=None, sep='\\t').to_numpy()\n",
    "test_df = pd.read_csv('satimage.scale.t', header=None, sep='\\t').to_numpy()"
   ]
  },
  {
   "cell_type": "code",
   "execution_count": 8,
   "metadata": {},
   "outputs": [],
   "source": [
    "num = 6\n",
    "\n",
    "# train_data\n",
    "for i in range (len(train_df)):\n",
    "    if int(train_df[i][0][0]) == num:        \n",
    "        with open('train_' + str(num) + '.txt','a') as f:\n",
    "            writer = csv.writer(f)\n",
    "            f.write(str(1) + ' ' + str(train_df[i][0][2:]))\n",
    "            f.write(\"\\n\")\n",
    "    else:        \n",
    "        with open('train_' + str(num) + '.txt','a') as f:\n",
    "            writer = csv.writer(f)\n",
    "            f.write(str(-1) + ' ' + str(train_df[i][0][2:]))\n",
    "            f.write(\"\\n\")\n",
    "            \n",
    "# test_data\n",
    "for i in range (len(test_df)):\n",
    "    if int(test_df[i][0][0]) == num:        \n",
    "        with open('test_' + str(num) + '.txt','a') as f:\n",
    "            writer = csv.writer(f)\n",
    "            f.write(str(1) + ' ' + str(test_df[i][0][2:]))\n",
    "            f.write(\"\\n\")\n",
    "    else:        \n",
    "        with open('test_' + str(num) + '.txt','a') as f:\n",
    "            writer = csv.writer(f)\n",
    "            f.write(str(-1) + ' ' + str(test_df[i][0][2:]))\n",
    "            f.write(\"\\n\")"
   ]
  },
  {
   "cell_type": "code",
   "execution_count": null,
   "metadata": {},
   "outputs": [],
   "source": []
  }
 ],
 "metadata": {
  "kernelspec": {
   "display_name": "Python 3",
   "language": "python",
   "name": "python3"
  },
  "language_info": {
   "codemirror_mode": {
    "name": "ipython",
    "version": 3
   },
   "file_extension": ".py",
   "mimetype": "text/x-python",
   "name": "python",
   "nbconvert_exporter": "python",
   "pygments_lexer": "ipython3",
   "version": "3.8.5"
  }
 },
 "nbformat": 4,
 "nbformat_minor": 4
}
