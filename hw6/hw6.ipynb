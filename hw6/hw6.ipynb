{
 "cells": [
  {
   "cell_type": "code",
   "execution_count": 1,
   "metadata": {},
   "outputs": [],
   "source": [
    "import numpy as np\n",
    "import matplotlib.pyplot as plt"
   ]
  },
  {
   "cell_type": "code",
   "execution_count": 2,
   "metadata": {},
   "outputs": [],
   "source": [
    "# load data\n",
    "train = np.genfromtxt('hw6_train.dat')\n",
    "X_train, y_train = train[:, :-1], train[:, -1]\n",
    "test = np.genfromtxt('hw6_test.dat')\n",
    "X_test, y_test = test[:, :-1], test[:, -1]\n",
    "\n",
    "def Gini(y):\n",
    "    if(len(y) == 0):\n",
    "        return 1\n",
    "    t = np.mean(y == -1)\n",
    "    return 1 - t**2 - (1 - t)**2\n",
    "\n",
    "def lossfunc(theta, X, y):\n",
    "    y1 = y[X < theta]\n",
    "    y2 = y[X >= theta]\n",
    "    Gini1 = Gini(y1)\n",
    "    Gini2 = Gini(y2)\n",
    "    return len(y1) * Gini1 + len(y2) * Gini2\n",
    "\n",
    "def Generate_theta(X):\n",
    "    X = np.sort(X)\n",
    "    theta = (X[1:] + X[:-1]) / 2\n",
    "    theta = np.r_[[X[0] - 1], theta]\n",
    "    theta = np.r_[theta, [X[-1] + 1]]\n",
    "    \n",
    "    return theta\n",
    "\n",
    "def Decision_stump(X, y):\n",
    "    n, d = X.shape\n",
    "    Theta = 0\n",
    "    D = 0\n",
    "    Score = n\n",
    "    for i in range(d):\n",
    "        x = X[:, i]\n",
    "        theta = Generate_theta(x)\n",
    "        for theta_ in theta:\n",
    "            score = lossfunc(theta_, x, y)\n",
    "            if score < Score:\n",
    "                Score = score\n",
    "                Theta = theta_\n",
    "                D = i\n",
    "    \n",
    "    return D, Theta, Score\n",
    "\n",
    "def isstop(X, y):\n",
    "    n1 = np.sum(y!=y[0])\n",
    "    n2 = np.sum(X!=X[0, :])\n",
    "    return n1 == 0 or n2 == 0\n",
    "\n",
    "class DTree:\n",
    "    def __init__(self, theta, d, value=None):\n",
    "\n",
    "        self.theta = theta\n",
    "\n",
    "        self.d = d\n",
    "\n",
    "        self.value = value\n",
    "\n",
    "        self.left = None\n",
    "        self.right = None\n",
    "\n",
    "NUM = 0\n",
    "\n",
    "def learntree(X, y):\n",
    "    global NUM\n",
    "    NUM += 1\n",
    "    if isstop(X, y):\n",
    "\n",
    "        return DTree(None, None, y[0])\n",
    "    else:\n",
    "        d, theta, score = Decision_stump(X, y)\n",
    "\n",
    "        tree = DTree(theta, d)\n",
    "\n",
    "        i1 = X[:, d] < theta\n",
    "        X1 = X[i1]\n",
    "\n",
    "        y1 = y[i1]\n",
    "        i2 = X[:, d] >= theta\n",
    "        X2 = X[i2]\n",
    "        y2 = y[i2]\n",
    "\n",
    "        leftTree = learntree(X1, y1)\n",
    "\n",
    "        rightTree = learntree(X2, y2)\n",
    "\n",
    "        tree.left = leftTree\n",
    "        tree.right = rightTree\n",
    "        \n",
    "        return tree\n",
    "    \n",
    "\n",
    "def pred(tree, x):\n",
    "\n",
    "    if tree.value != None:\n",
    "        return tree.value\n",
    "    if x[tree.d] < tree.theta:\n",
    "        return pred(tree.left, x)\n",
    "    else:\n",
    "        return pred(tree.right, x)\n",
    "    \n",
    "def error(tree, X, y):\n",
    "    ypred = [pred(tree, x) for x in X]\n",
    "    return np.mean(ypred!=y)"
   ]
  },
  {
   "cell_type": "code",
   "execution_count": 3,
   "metadata": {},
   "outputs": [
    {
     "name": "stdout",
     "output_type": "stream",
     "text": [
      "0.166\n"
     ]
    }
   ],
   "source": [
    "dtree = learntree(X_train, y_train)\n",
    "print(error(dtree, X_test, y_test))"
   ]
  },
  {
   "cell_type": "code",
   "execution_count": 7,
   "metadata": {},
   "outputs": [],
   "source": [
    "N = 2000\n",
    "Ein = np.array([])\n",
    "Eout = np.array([])\n",
    "tree = []\n",
    "m, n = train.shape\n",
    "\n",
    "for i in range(N):\n",
    "    index = np.random.randint(0, int(m), int(0.5*m))\n",
    "    X1 = X_train[index, :]\n",
    "    y1 = y_train[index]\n",
    "    dtree = learntree(X1, y1)\n",
    "    tree.append(dtree)\n",
    "    Ein = np.append(Ein, error(dtree, X_train, y_train))\n",
    "    Eout = np.append(Eout, error(dtree, X_test, y_test))"
   ]
  },
  {
   "cell_type": "code",
   "execution_count": 8,
   "metadata": {},
   "outputs": [
    {
     "name": "stdout",
     "output_type": "stream",
     "text": [
      "0.22960000000000003\n"
     ]
    }
   ],
   "source": [
    "print (np.mean(Eout))"
   ]
  },
  {
   "cell_type": "code",
   "execution_count": 9,
   "metadata": {},
   "outputs": [
    {
     "data": {
      "image/png": "[encoded data removed]",
      "text/plain": [
       "<Figure size 432x288 with 1 Axes>"
      ]
     },
     "metadata": {
      "needs_background": "light"
     },
     "output_type": "display_data"
    },
    {
     "name": "stdout",
     "output_type": "stream",
     "text": [
      "Ein = 0.014293000000000007\n"
     ]
    }
   ],
   "source": [
    "def random_forest_error(tree, X, y):\n",
    "    Error = np.array([])\n",
    "    N = len(tree)\n",
    "    for i in range(N):\n",
    "        E = []\n",
    "        for j in range(1+i):\n",
    "            E.append([pred(tree[j], x) for x in X])\n",
    "        E = np.array(E)\n",
    "\n",
    "        ypred = np.sign(E.sum(axis=0) + 0.5)\n",
    "        error = np.mean(ypred!=y)\n",
    "        Error = np.append(Error, error)\n",
    "    return Error\n",
    "\n",
    "Ein_G = random_forest_error(tree, X_train, y_train)\n",
    "\n",
    "plt.plot(np.arange(1, N+1), Ein_G)\n",
    "plt.show()\n",
    "\n",
    "print(\"Ein = {}\".format(np.mean(Ein_G)))"
   ]
  },
  {
   "cell_type": "code",
   "execution_count": 10,
   "metadata": {},
   "outputs": [
    {
     "data": {
      "image/png": "[encoded data removed]",
      "text/plain": [
       "<Figure size 432x288 with 1 Axes>"
      ]
     },
     "metadata": {
      "needs_background": "light"
     },
     "output_type": "display_data"
    },
    {
     "name": "stdout",
     "output_type": "stream",
     "text": [
      "Eout = 0.15407399999999996\n"
     ]
    }
   ],
   "source": [
    "Eout_G = random_forest_error(tree, X_test, y_test)\n",
    "\n",
    "plt.plot(np.arange(1, N+1), Eout_G)\n",
    "plt.show()\n",
    "\n",
    "print(\"Eout = {}\".format(np.mean(Eout_G)))"
   ]
  },
  {
   "cell_type": "code",
   "execution_count": null,
   "metadata": {},
   "outputs": [],
   "source": []
  }
 ],
 "metadata": {
  "kernelspec": {
   "display_name": "Python 3",
   "language": "python",
   "name": "python3"
  },
  "language_info": {
   "codemirror_mode": {
    "name": "ipython",
    "version": 3
   },
   "file_extension": ".py",
   "mimetype": "text/x-python",
   "name": "python",
   "nbconvert_exporter": "python",
   "pygments_lexer": "ipython3",
   "version": "3.8.5"
  }
 },
 "nbformat": 4,
 "nbformat_minor": 4
}
