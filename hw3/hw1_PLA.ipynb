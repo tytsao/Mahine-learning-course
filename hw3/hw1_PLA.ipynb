{
 "cells": [
  {
   "cell_type": "code",
   "execution_count": 1,
   "metadata": {},
   "outputs": [],
   "source": [
    "import pandas as pd\n",
    "import numpy as np\n",
    "import random\n",
    "import statistics"
   ]
  },
  {
   "cell_type": "code",
   "execution_count": 2,
   "metadata": {},
   "outputs": [
    {
     "name": "stdout",
     "output_type": "stream",
     "text": [
      "[[ 1.56186 -2.54905 -1.98638 ...  1.32496 -2.26376 -1.     ]\n",
      " [ 3.89045 -0.02852  2.2065  ... -2.31854 -1.40395 -1.     ]\n",
      " [-1.85626 -1.38071 -0.0755  ... -2.35446 -1.43411  1.     ]\n",
      " ...\n",
      " [-3.8145   0.89167 -2.15984 ... -1.57172  0.15997  1.     ]\n",
      " [-2.11276 -1.91391 -0.63889 ... -3.45234 -1.29036  1.     ]\n",
      " [-2.50787 -1.02966  0.5274  ...  1.14198  0.64107 -1.     ]]\n"
     ]
    }
   ],
   "source": [
    "df = pd.read_csv('hw1_train.dat', header=None, sep='\\t').to_numpy()\n",
    "print (df)"
   ]
  },
  {
   "cell_type": "code",
   "execution_count": 3,
   "metadata": {},
   "outputs": [],
   "source": [
    "def sign(x):\n",
    "    if x == 0:\n",
    "        return -1\n",
    "    else:\n",
    "        return np.sign(x)"
   ]
  },
  {
   "cell_type": "code",
   "execution_count": 11,
   "metadata": {
    "scrolled": true
   },
   "outputs": [
    {
     "name": "stdout",
     "output_type": "stream",
     "text": [
      "Success!\n",
      "W_PLA = [-3.      -2.36943  4.42314 -1.46458 -9.01882 -2.17736 -5.17264 -2.61307\n",
      "  0.51125  2.04206 -6.48922]\n",
      "updates = 7\n"
     ]
    }
   ],
   "source": [
    "N = 100\n",
    "x0 = [1]\n",
    "\n",
    "# initialize\n",
    "w = np.zeros(11)\n",
    "count = 0\n",
    "updates = 0\n",
    "\n",
    "while count < 5*N:\n",
    "    p = random.randint(0, 99)\n",
    "    x = df[p][0: 10]\n",
    "    x = np.hstack((x0, x))\n",
    "    y = df[p][10]\n",
    "    if sign(np.dot(w, x)) != y:\n",
    "        w = w + y*x\n",
    "        count = 0\n",
    "        updates += 1\n",
    "    else:\n",
    "        count += 1\n",
    "    if updates == 100:\n",
    "        break\n",
    "\n",
    "if count == 5*N:\n",
    "    W_PLA = w\n",
    "    print ('Success!')\n",
    "    print ('W_PLA =', w)\n",
    "else:\n",
    "    print ('w =', w)\n",
    "\n",
    "print ('updates =', updates)"
   ]
  },
  {
   "cell_type": "code",
   "execution_count": 10,
   "metadata": {},
   "outputs": [
    {
     "name": "stdout",
     "output_type": "stream",
     "text": [
      "updates_median = 11.0\n",
      "w0_median = -7.0\n"
     ]
    }
   ],
   "source": [
    "N = 100\n",
    "x0 = [1]\n",
    "\n",
    "updates_list = []\n",
    "w0_list = []\n",
    "\n",
    "for i in range(1000):\n",
    "    # initialize\n",
    "    w = np.zeros(11)\n",
    "    count = 0\n",
    "    updates = 0\n",
    "    while count < 5*N:\n",
    "        p = random.randint(0, 99)\n",
    "        x = df[p][0: 10]\n",
    "        x = np.hstack((x0, x))\n",
    "        #x_scale = [i/4 for i in x]\n",
    "        y = df[p][10]\n",
    "        if sign(np.dot(w, x)) != y:\n",
    "            w = w + y*x\n",
    "            count = 0\n",
    "            updates += 1\n",
    "        else:\n",
    "            count += 1\n",
    "    updates_list.append(updates)\n",
    "    w0_list.append(w[0])\n",
    "print ('updates_median =', statistics.median(updates_list))\n",
    "print ('w0_median =', statistics.median(w0_list))"
   ]
  },
  {
   "cell_type": "code",
   "execution_count": null,
   "metadata": {},
   "outputs": [],
   "source": []
  }
 ],
 "metadata": {
  "kernelspec": {
   "display_name": "Python 3",
   "language": "python",
   "name": "python3"
  },
  "language_info": {
   "codemirror_mode": {
    "name": "ipython",
    "version": 3
   },
   "file_extension": ".py",
   "mimetype": "text/x-python",
   "name": "python",
   "nbconvert_exporter": "python",
   "pygments_lexer": "ipython3",
   "version": "3.7.1"
  }
 },
 "nbformat": 4,
 "nbformat_minor": 4
}
