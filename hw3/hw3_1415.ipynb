{
 "cells": [
  {
   "cell_type": "code",
   "execution_count": 1,
   "metadata": {},
   "outputs": [],
   "source": [
    "import numpy as np"
   ]
  },
  {
   "cell_type": "code",
   "execution_count": 2,
   "metadata": {},
   "outputs": [
    {
     "name": "stdout",
     "output_type": "stream",
     "text": [
      "[[ 1.        2.965153  2.447427 ...  1.621895 -4.510862 -0.006392]\n",
      " [ 1.       -4.303194 -0.032933 ... -4.560341 -0.949456 -0.744622]\n",
      " [ 1.       -0.261568  0.974854 ... -4.031803  2.728657  4.001672]\n",
      " ...\n",
      " [ 1.       -3.106073 -0.425107 ... -2.093555 -1.741274  1.479998]\n",
      " [ 1.        3.665836  3.401544 ...  0.78021   2.058829  1.474205]\n",
      " [ 1.        1.74612   2.365236 ... -0.833364  3.269879 -0.259019]]\n"
     ]
    }
   ],
   "source": [
    "def preprocess(X):\n",
    "    n = X.shape[0]\n",
    "    return np.c_[np.ones(n), X]\n",
    "\n",
    "data_train = np.genfromtxt(\"hw3_train.dat\")\n",
    "X_train = data_train[:, :-1]\n",
    "y_train = data_train[:, -1].reshape(-1, 1)\n",
    "X_train = preprocess(X_train)\n",
    "data_test = np.genfromtxt(\"hw3_test.dat\")\n",
    "X_test = data_test[:, :-1]\n",
    "y_test = data_test[:, -1].reshape(-1, 1)\n",
    "X_test = preprocess(X_test)\n",
    "print (X_train)"
   ]
  },
  {
   "cell_type": "code",
   "execution_count": 3,
   "metadata": {},
   "outputs": [
    {
     "name": "stdout",
     "output_type": "stream",
     "text": [
      "[[ 0.00754448]\n",
      " [ 0.14325775]\n",
      " [ 0.03548979]\n",
      " [ 0.02775754]\n",
      " [ 0.02547401]\n",
      " [-0.08173504]\n",
      " [ 0.0807915 ]\n",
      " [-0.10929449]\n",
      " [ 0.07789522]\n",
      " [ 0.16407524]\n",
      " [ 0.14069183]]\n",
      "E_in = 0.6053223804672915\n"
     ]
    }
   ],
   "source": [
    "# problem 14\n",
    "W_LIN = np.dot(np.dot(np.linalg.inv(np.dot(X_train.transpose(), X_train)), X_train.transpose()), y_train)\n",
    "print (W_LIN)\n",
    "\n",
    "E_in = 0\n",
    "\n",
    "for i in range (1000):\n",
    "    E_in += (1/1000)*(np.dot(X_train[i], W_LIN) - y_train[i])**2\n",
    "    \n",
    "print ('E_in =', E_in[0])"
   ]
  },
  {
   "cell_type": "code",
   "execution_count": 4,
   "metadata": {},
   "outputs": [
    {
     "name": "stdout",
     "output_type": "stream",
     "text": [
      "1857.858\n"
     ]
    }
   ],
   "source": [
    "# problem 15\n",
    "\n",
    "count_ave = 0\n",
    "\n",
    "for j in range(1000):\n",
    "    \n",
    "    wt = np.zeros(11)\n",
    "    E_wt = 0\n",
    "    count = 0\n",
    "\n",
    "    for i in range(1000):\n",
    "        E_wt += (1/1000)*(np.dot(X_train[i], wt) - y_train[i])**2\n",
    "    \n",
    "    while E_wt > 1.01*E_in:\n",
    "        E_wt = 0\n",
    "        k = np.random.randint(1000)\n",
    "        wt = wt + 0.001*2*(y_train[k] - np.dot(wt, X_train[k]))*X_train[k]\n",
    "        count += 1\n",
    "        for i in range (1000):\n",
    "            E_wt += (1/1000)*(np.dot(X_train[i], wt) - y_train[i])**2\n",
    "            \n",
    "    count_ave += count\n",
    "\n",
    "count_ave = count_ave / 1000\n",
    "        \n",
    "print (count_ave)"
   ]
  }
 ],
 "metadata": {
  "kernelspec": {
   "display_name": "Python 3",
   "language": "python",
   "name": "python3"
  },
  "language_info": {
   "codemirror_mode": {
    "name": "ipython",
    "version": 3
   },
   "file_extension": ".py",
   "mimetype": "text/x-python",
   "name": "python",
   "nbconvert_exporter": "python",
   "pygments_lexer": "ipython3",
   "version": "3.7.1"
  }
 },
 "nbformat": 4,
 "nbformat_minor": 4
}
