{
 "cells": [
  {
   "cell_type": "code",
   "execution_count": 1,
   "metadata": {},
   "outputs": [],
   "source": [
    "import numpy as np"
   ]
  },
  {
   "cell_type": "code",
   "execution_count": 2,
   "metadata": {},
   "outputs": [],
   "source": [
    "def fi(x):\n",
    "    return [1, x[0], x[1], x[0]**2, x[0]*x[1], x[1]**2]\n",
    "\n",
    "wa = np.array([-9, -1, 0, 2, -2, 3])\n",
    "wb = np.array([-5, -1, 2, 3, -7, 2])\n",
    "wc = np.array([9, -1, 4, 2, -2, 3])\n",
    "wd = np.array([2, 1, -4, -2, 7, -4])\n",
    "we = np.array([-7, 0, 0, 2, -2, 3])\n",
    "\n",
    "\n",
    "x1 = np.array([0, 1])\n",
    "y1 = -1\n",
    "x2 = np.array([1, -0.5])\n",
    "y2 = -1\n",
    "x3 = np.array([-1, 0])\n",
    "y3 = -1\n",
    "x4 = np.array([-1, 2])\n",
    "y4 = 1\n",
    "x5 = np.array([2, 0])\n",
    "y5 = 1\n",
    "x6 = np.array([1, -1.5])\n",
    "y6 = 1\n",
    "x7 = np.array([0, -2])\n",
    "y7 = 1"
   ]
  },
  {
   "cell_type": "code",
   "execution_count": 3,
   "metadata": {},
   "outputs": [
    {
     "name": "stdout",
     "output_type": "stream",
     "text": [
      "[-1. -1. -1.  1.  1.  1.  1.]\n"
     ]
    }
   ],
   "source": [
    "print (np.sign([np.dot(we, fi(x1)), np.dot(we, fi(x2)), np.dot(we, fi(x3)), np.dot(we, fi(x4)), np.dot(we, fi(x5)), np.dot(we, fi(x6)), np.dot(we, fi(x7))]))"
   ]
  },
  {
   "cell_type": "code",
   "execution_count": null,
   "metadata": {},
   "outputs": [],
   "source": []
  }
 ],
 "metadata": {
  "kernelspec": {
   "display_name": "Python 3",
   "language": "python",
   "name": "python3"
  },
  "language_info": {
   "codemirror_mode": {
    "name": "ipython",
    "version": 3
   },
   "file_extension": ".py",
   "mimetype": "text/x-python",
   "name": "python",
   "nbconvert_exporter": "python",
   "pygments_lexer": "ipython3",
   "version": "3.7.1"
  }
 },
 "nbformat": 4,
 "nbformat_minor": 4
}
