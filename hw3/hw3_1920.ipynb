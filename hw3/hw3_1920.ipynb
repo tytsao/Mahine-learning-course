{
 "cells": [
  {
   "cell_type": "code",
   "execution_count": 1,
   "metadata": {},
   "outputs": [],
   "source": [
    "import numpy as np"
   ]
  },
  {
   "cell_type": "code",
   "execution_count": 2,
   "metadata": {},
   "outputs": [],
   "source": [
    "def fi_2(X):\n",
    "    return X**2\n",
    "def fi_3(X):\n",
    "    return X**3\n",
    "def fi_4(X):\n",
    "    return X**4\n",
    "def fi_5(X):\n",
    "    return X**5\n",
    "def fi_6(X):\n",
    "    return X**6\n",
    "def fi_7(X):\n",
    "    return X**7\n",
    "def fi_8(X):\n",
    "    return X**8\n",
    "def fi_9(X):\n",
    "    return X**9\n",
    "def fi_10(X):\n",
    "    return X**10\n",
    "\n",
    "data_train = np.genfromtxt(\"hw3_train.dat\")\n",
    "X_train = data_train[:, :-1]\n",
    "y_train = data_train[:, -1].reshape(-1, 1)\n",
    "X_train_z = np.c_[np.ones(1000), X_train, fi_2(X_train), fi_3(X_train)]\n",
    "\n",
    "data_test = np.genfromtxt(\"hw3_test.dat\")\n",
    "X_test = data_test[:, :-1]\n",
    "y_test = data_test[:, -1].reshape(-1, 1)\n",
    "X_test_z = np.c_[np.ones(3000), X_test, fi_2(X_test), fi_3(X_test)]"
   ]
  },
  {
   "cell_type": "code",
   "execution_count": 3,
   "metadata": {},
   "outputs": [],
   "source": [
    "# problem 14\n",
    "W_LIN = np.dot(np.dot(np.linalg.inv(np.dot(X_train_z.transpose(), X_train_z)), X_train_z.transpose()), y_train)"
   ]
  },
  {
   "cell_type": "code",
   "execution_count": 4,
   "metadata": {},
   "outputs": [],
   "source": [
    "E_in = 0\n",
    "E_out = 0\n",
    "\n",
    "y_train_pred = np.dot(X_train_z, W_LIN)\n",
    "y_train_pred[y_train_pred > 0] = 1\n",
    "y_train_pred[y_train_pred <= 0] = -1\n",
    "E_in = np.mean(y_train_pred != y_train)\n",
    "\n",
    "y_test_pred = np.dot(X_test_z, W_LIN)\n",
    "y_test_pred[y_test_pred > 0] = 1\n",
    "y_test_pred[y_test_pred <= 0] = -1\n",
    "E_out = np.mean(y_test_pred != y_test)"
   ]
  },
  {
   "cell_type": "code",
   "execution_count": 5,
   "metadata": {},
   "outputs": [
    {
     "name": "stdout",
     "output_type": "stream",
     "text": [
      "0.37366666666666665\n"
     ]
    }
   ],
   "source": [
    "# problem 19\n",
    "print (abs(E_in - E_out))"
   ]
  },
  {
   "cell_type": "code",
   "execution_count": 6,
   "metadata": {},
   "outputs": [],
   "source": [
    "data_train = np.genfromtxt(\"hw3_train.dat\")\n",
    "X_train = data_train[:, :-1]\n",
    "y_train = data_train[:, -1].reshape(-1, 1)\n",
    "X_train_z = np.c_[np.ones(1000), X_train, fi_2(X_train), fi_3(X_train), fi_4(X_train), fi_5(X_train), fi_6(X_train), fi_7(X_train), fi_8(X_train), fi_9(X_train), fi_10(X_train)]\n",
    "\n",
    "data_test = np.genfromtxt(\"hw3_test.dat\")\n",
    "X_test = data_test[:, :-1]\n",
    "y_test = data_test[:, -1].reshape(-1, 1)\n",
    "X_test_z = np.c_[np.ones(3000), X_test, fi_2(X_test), fi_3(X_test), fi_4(X_test), fi_5(X_test), fi_6(X_test), fi_7(X_test), fi_8(X_test), fi_9(X_test), fi_10(X_test)]"
   ]
  },
  {
   "cell_type": "code",
   "execution_count": 7,
   "metadata": {},
   "outputs": [],
   "source": [
    "# problem 14\n",
    "W_LIN = np.dot(np.dot(np.linalg.inv(np.dot(X_train_z.transpose(), X_train_z)), X_train_z.transpose()), y_train)"
   ]
  },
  {
   "cell_type": "code",
   "execution_count": 8,
   "metadata": {},
   "outputs": [],
   "source": [
    "E_in = 0\n",
    "E_out = 0\n",
    "\n",
    "y_train_pred = np.dot(X_train_z, W_LIN)\n",
    "y_train_pred[y_train_pred > 0] = 1\n",
    "y_train_pred[y_train_pred <= 0] = -1\n",
    "E_in = np.mean(y_train_pred != y_train)\n",
    "\n",
    "y_test_pred = np.dot(X_test_z, W_LIN)\n",
    "y_test_pred[y_test_pred > 0] = 1\n",
    "y_test_pred[y_test_pred <= 0] = -1\n",
    "E_out = np.mean(y_test_pred != y_test)"
   ]
  },
  {
   "cell_type": "code",
   "execution_count": 9,
   "metadata": {},
   "outputs": [
    {
     "name": "stdout",
     "output_type": "stream",
     "text": [
      "0.44666666666666666\n"
     ]
    }
   ],
   "source": [
    "# problem 20\n",
    "print (abs(E_in - E_out))"
   ]
  },
  {
   "cell_type": "code",
   "execution_count": null,
   "metadata": {},
   "outputs": [],
   "source": []
  }
 ],
 "metadata": {
  "kernelspec": {
   "display_name": "Python 3",
   "language": "python",
   "name": "python3"
  },
  "language_info": {
   "codemirror_mode": {
    "name": "ipython",
    "version": 3
   },
   "file_extension": ".py",
   "mimetype": "text/x-python",
   "name": "python",
   "nbconvert_exporter": "python",
   "pygments_lexer": "ipython3",
   "version": "3.7.1"
  }
 },
 "nbformat": 4,
 "nbformat_minor": 4
}
